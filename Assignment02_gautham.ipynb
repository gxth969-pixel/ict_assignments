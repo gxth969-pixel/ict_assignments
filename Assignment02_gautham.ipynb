{
  "nbformat": 4,
  "nbformat_minor": 0,
  "metadata": {
    "colab": {
      "provenance": [],
      "authorship_tag": "ABX9TyNBmtZSApclh+zj15CMpMCW",
      "include_colab_link": true
    },
    "kernelspec": {
      "name": "python3",
      "display_name": "Python 3"
    },
    "language_info": {
      "name": "python"
    }
  },
  "cells": [
    {
      "cell_type": "markdown",
      "metadata": {
        "id": "view-in-github",
        "colab_type": "text"
      },
      "source": [
        "<a href=\"https://colab.research.google.com/github/gxth969-pixel/ict_assignments/blob/main/Assignment02_gautham.ipynb\" target=\"_parent\"><img src=\"https://colab.research.google.com/assets/colab-badge.svg\" alt=\"Open In Colab\"/></a>"
      ]
    },
    {
      "cell_type": "markdown",
      "source": [
        "# 1.\n",
        "\n"
      ],
      "metadata": {
        "id": "DHLVjnQdHGEC"
      }
    },
    {
      "cell_type": "code",
      "execution_count": null,
      "metadata": {
        "id": "oZKqYo4KACsh",
        "colab": {
          "base_uri": "https://localhost:8080/"
        },
        "outputId": "8b60947b-d052-4a30-e451-69e33736027f"
      },
      "outputs": [
        {
          "output_type": "stream",
          "name": "stdout",
          "text": [
            "Enetr a number: 5\n",
            "Buzz\n"
          ]
        }
      ],
      "source": [
        "n = int(input(\"Enter a number: \"))\n",
        "if n%3 == 0 and n%5 == 0:\n",
        " print (\"FizzBuzz\")\n",
        "elif n%3 == 0:\n",
        " print(\"Fizz\")\n",
        "elif n%5 == 0:\n",
        " print(\"Buzz\")\n",
        "else:\n",
        "  print(n)\n",
        "\n"
      ]
    },
    {
      "cell_type": "markdown",
      "source": [
        "# 2."
      ],
      "metadata": {
        "id": "ZoGCuCJ8HOpx"
      }
    },
    {
      "cell_type": "code",
      "source": [
        "n = int(input(\"Enter the amount of unit consumed: \"))\n",
        "amount = 0\n",
        "if n<=100:\n",
        " amount = n*5\n",
        "elif n<=200:\n",
        " amount = (100*5) + (n-100) * 7\n",
        "else:\n",
        " amount = (100*5) + (100*7) + ((n-200)*10)\n",
        "print(\"Total amount:\", amount)\n"
      ],
      "metadata": {
        "colab": {
          "base_uri": "https://localhost:8080/"
        },
        "id": "Ipte6UbAIxpn",
        "outputId": "69ea694b-75e2-4bcf-d7a8-35d07da6d033"
      },
      "execution_count": null,
      "outputs": [
        {
          "output_type": "stream",
          "name": "stdout",
          "text": [
            "Enter the amount of unit consumed: 245\n",
            "Total amount: 1650\n"
          ]
        }
      ]
    },
    {
      "cell_type": "markdown",
      "source": [
        "# 3."
      ],
      "metadata": {
        "id": "zICdKh5JQSoS"
      }
    },
    {
      "cell_type": "code",
      "source": [
        "for i in range(1,6):\n",
        " print(i*\"*\")"
      ],
      "metadata": {
        "id": "TA85pEgwJBRQ",
        "colab": {
          "base_uri": "https://localhost:8080/"
        },
        "outputId": "03410127-6210-46df-8d35-14e03e262b3d"
      },
      "execution_count": 44,
      "outputs": [
        {
          "output_type": "stream",
          "name": "stdout",
          "text": [
            "*\n",
            "**\n",
            "***\n",
            "****\n",
            "*****\n"
          ]
        }
      ]
    },
    {
      "cell_type": "markdown",
      "source": [
        "# 4."
      ],
      "metadata": {
        "id": "3MJ7akkoRYBB"
      }
    },
    {
      "cell_type": "code",
      "source": [
        "al = str(input(\"Enter a number or string:\"))\n",
        "rev_pal = pal[::-1]\n",
        "\n",
        "if rev_pal == pal:\n",
        "print(pal,\"is a palindrome\")\n",
        "else:\n",
        "print(pal,\"is not a palindrome\")"
      ],
      "metadata": {
        "id": "uZnGb-VpRdcI"
      },
      "execution_count": null,
      "outputs": []
    }
  ]
}