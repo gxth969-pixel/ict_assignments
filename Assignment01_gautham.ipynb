{
  "nbformat": 4,
  "nbformat_minor": 0,
  "metadata": {
    "colab": {
      "provenance": [],
      "authorship_tag": "ABX9TyOefgDObSST1wpzC8CG12to",
      "include_colab_link": true
    },
    "kernelspec": {
      "name": "python3",
      "display_name": "Python 3"
    },
    "language_info": {
      "name": "python"
    }
  },
  "cells": [
    {
      "cell_type": "markdown",
      "metadata": {
        "id": "view-in-github",
        "colab_type": "text"
      },
      "source": [
        "<a href=\"https://colab.research.google.com/github/gxth969-pixel/ict_assignments/blob/main/Assignment01_gautham.ipynb\" target=\"_parent\"><img src=\"https://colab.research.google.com/assets/colab-badge.svg\" alt=\"Open In Colab\"/></a>"
      ]
    },
    {
      "cell_type": "markdown",
      "source": [
        "<H1> ASSIGNMENT 01"
      ],
      "metadata": {
        "id": "iGypZwE3HTXW"
      }
    },
    {
      "cell_type": "markdown",
      "source": [
        "**1**"
      ],
      "metadata": {
        "id": "5VGG9wJ04PFa"
      }
    },
    {
      "cell_type": "code",
      "metadata": {
        "colab": {
          "base_uri": "https://localhost:8080/"
        },
        "id": "dbb8d115",
        "outputId": "d01d9d6c-1821-49d6-c2b2-383e255fcbbc"
      },
      "source": [
        "# Input prices for each item\n",
        "item1 = float(input(\"enter price of item1\"))\n",
        "item2 = float(input(\"enter price of item2\"))\n",
        "\n",
        "#input quantity for each item\n",
        "item1_quantity = int(input(\"enter quantity of item1\"))\n",
        "item2_quantity = int(input(\"enter quntity of item2\"))\n",
        "\n",
        "#total bill\n",
        "total = item1*item1_quantity+item2*item2_quantity\n",
        "\n",
        "print(\"total bill=\", total)\n",
        "\n"
      ],
      "execution_count": null,
      "outputs": [
        {
          "output_type": "stream",
          "name": "stdout",
          "text": [
            "enter price of item145\n",
            "enter price of item230\n",
            "enter quantity of item13\n",
            "enter quntity of item22\n",
            "total bill= 195.0\n"
          ]
        }
      ]
    },
    {
      "cell_type": "markdown",
      "source": [
        "**2**"
      ],
      "metadata": {
        "id": "VPlu4CNd4TRx"
      }
    },
    {
      "cell_type": "code",
      "source": [
        "c = int(input(\"enter the temperature in celsius: \"))\n",
        "f = (c*9/5)+32\n",
        "print(\"tempreature in fahrenheit =\", f)"
      ],
      "metadata": {
        "colab": {
          "base_uri": "https://localhost:8080/"
        },
        "id": "34lCrM0srwyI",
        "outputId": "545087bd-636c-4cdc-f40d-41113f9804e5"
      },
      "execution_count": null,
      "outputs": [
        {
          "output_type": "stream",
          "name": "stdout",
          "text": [
            "enter the temperature in celsius: 30\n",
            "tempreature in fahrenheit = 86.0\n"
          ]
        }
      ]
    },
    {
      "cell_type": "markdown",
      "source": [
        "**3**"
      ],
      "metadata": {
        "id": "CE3y_Z9Z4Vu5"
      }
    },
    {
      "cell_type": "code",
      "source": [
        "a = float(input(\"enter basic salary: \"))\n",
        "n = a+(0.20*a)+(0.10*a)\n",
        "print(\"nt salary: \", n)"
      ],
      "metadata": {
        "id": "f78r7C4owYlR",
        "colab": {
          "base_uri": "https://localhost:8080/"
        },
        "outputId": "2e179a09-8b86-4245-84ce-3a6037ac210f"
      },
      "execution_count": 1,
      "outputs": [
        {
          "output_type": "stream",
          "name": "stdout",
          "text": [
            "enter basic salary: 20000\n",
            "nt salary:  26000.0\n"
          ]
        }
      ]
    },
    {
      "cell_type": "markdown",
      "source": [
        "**4**"
      ],
      "metadata": {
        "id": "9NVC0G784YFB"
      }
    },
    {
      "cell_type": "code",
      "source": [
        "# Input principal amount, rate of interest, and time period\n",
        "p = float(input(\"Enter the principal amount: \"))\n",
        "r = float(input(\"Enter the annual interest rate (in percentage): \"))\n",
        "t = float(input(\"Enter the time period (in years): \"))\n",
        "\n",
        "# Calculate simple interest\n",
        "si = (p * r * t) / 100\n",
        "\n",
        "# Print the result\n",
        "print(\"Simple Interest =\", si)"
      ],
      "metadata": {
        "colab": {
          "base_uri": "https://localhost:8080/"
        },
        "id": "g95VYpTy39Tc",
        "outputId": "c7c07088-c7be-4704-f73f-9c3af026d8d7"
      },
      "execution_count": 2,
      "outputs": [
        {
          "output_type": "stream",
          "name": "stdout",
          "text": [
            "Enter the principal amount: 10000\n",
            "Enter the annual interest rate (in percentage): 5\n",
            "Enter the time period (in years): 2\n",
            "Simple Interest = 1000.0\n"
          ]
        }
      ]
    },
    {
      "cell_type": "markdown",
      "source": [
        "**5**"
      ],
      "metadata": {
        "id": "5DDtQ7mr50wg"
      }
    },
    {
      "cell_type": "markdown",
      "source": [
        "**6**"
      ],
      "metadata": {
        "id": "P0sZ22pK7cjv"
      }
    },
    {
      "cell_type": "code",
      "source": [
        "#input weight and height\n",
        "weight = float(input(\"enter the weight in kg:\"))\n",
        "height = float(input(\"enter the height in m:\"))\n",
        "\n",
        "#calculate the BMI\n",
        "BMI = weight/(height*height)\n",
        "\n",
        "#output result\n",
        "print(\"BMI =\",BMI )"
      ],
      "metadata": {
        "colab": {
          "base_uri": "https://localhost:8080/"
        },
        "id": "PecOcX9F7VRp",
        "outputId": "dc89b4c8-6d16-4a20-9fd1-f17d2b4b866f"
      },
      "execution_count": 6,
      "outputs": [
        {
          "output_type": "stream",
          "name": "stdout",
          "text": [
            "enter the weight in kg:60\n",
            "enter the height in m:1.65\n",
            "BMI = 22.03856749311295\n"
          ]
        }
      ]
    },
    {
      "cell_type": "markdown",
      "source": [
        "**7**"
      ],
      "metadata": {
        "id": "hZ37fmlS-wwc"
      }
    },
    {
      "cell_type": "code",
      "source": [
        "# input the item and discoun\n",
        "a = float(input(\"enter the price of the item\"))\n",
        "b = float(input(\"enter the disount\"))\n",
        "\n",
        "# price of the item after 10% discount\n",
        "discount =a-(a*b)/100\n",
        "\n",
        "#output\n",
        "print(\"discounted price:\", discount)"
      ],
      "metadata": {
        "colab": {
          "base_uri": "https://localhost:8080/"
        },
        "id": "dRHGJtcl9rOW",
        "outputId": "08c2e2e9-9e89-4e78-8da2-8fcb7a2249c0"
      },
      "execution_count": 11,
      "outputs": [
        {
          "output_type": "stream",
          "name": "stdout",
          "text": [
            "enter the price of the item1200\n",
            "enter the disount10\n",
            "discounted price: 1080.0\n"
          ]
        }
      ]
    },
    {
      "cell_type": "markdown",
      "source": [
        "**8**"
      ],
      "metadata": {
        "id": "1BuVP92hD_5I"
      }
    },
    {
      "cell_type": "code",
      "source": [
        "a=float(input(\"Enter side a:\"))\n",
        "b=float(input(\"Enter side b:\"))\n",
        "c=float(input(\"Enter side c:\"))\n",
        "s=(a+b+c)/2\n",
        "area=(s*(s-a)*(s-b)*(s-c))**0.5\n",
        "print(area)"
      ],
      "metadata": {
        "colab": {
          "base_uri": "https://localhost:8080/"
        },
        "id": "VlAkB9T_Bd3L",
        "outputId": "85273145-2c30-423a-c8b9-eac1dffc98f9"
      },
      "execution_count": 12,
      "outputs": [
        {
          "output_type": "stream",
          "name": "stdout",
          "text": [
            "Enter side a:5\n",
            "Enter side b:6\n",
            "Enter side c:7\n",
            "14.696938456699069\n"
          ]
        }
      ]
    },
    {
      "cell_type": "markdown",
      "source": [
        "**9**"
      ],
      "metadata": {
        "id": "8S7IcLvRE5P_"
      }
    },
    {
      "cell_type": "code",
      "source": [
        "a=float(input(\"Enter wall length: \"))\n",
        "b=float(input(\"Enter wall height: \"))\n",
        "t=a*b\n",
        "w=2*(1.5*1.2)\n",
        "p=t-w\n",
        "print(\"total area painted: \",p)\n",
        "c=p*25\n",
        "print(\"total cost: \",c)"
      ],
      "metadata": {
        "colab": {
          "base_uri": "https://localhost:8080/"
        },
        "id": "NRqj4NqQFIGO",
        "outputId": "e29b515c-d898-48ed-cd0c-48c1b4de8fde"
      },
      "execution_count": 15,
      "outputs": [
        {
          "output_type": "stream",
          "name": "stdout",
          "text": [
            "Enter wall length: 12\n",
            "Enter wall height: 8\n",
            "total area painted:  92.4\n",
            "total cost:  2310.0\n"
          ]
        }
      ]
    },
    {
      "cell_type": "markdown",
      "source": [
        "**10**"
      ],
      "metadata": {
        "id": "Rf0JY2_nF5dG"
      }
    },
    {
      "cell_type": "code",
      "source": [
        "a=float(input(\"Enter number of units consumed: \"))\n",
        "b=(a*5.2)+100\n",
        "print(\"electricity bill: \",b)"
      ],
      "metadata": {
        "colab": {
          "base_uri": "https://localhost:8080/"
        },
        "id": "LjoWp3mjFYnO",
        "outputId": "9789f20c-e9b3-44fc-ef22-3718bdb895e8"
      },
      "execution_count": 17,
      "outputs": [
        {
          "output_type": "stream",
          "name": "stdout",
          "text": [
            "Enter number of units consumed: 250\n",
            "electricity bill:  1400.0\n"
          ]
        }
      ]
    },
    {
      "cell_type": "markdown",
      "source": [
        "<H1>           _________________________"
      ],
      "metadata": {
        "id": "gyVGfXjKGWn2"
      }
    }
  ]
}